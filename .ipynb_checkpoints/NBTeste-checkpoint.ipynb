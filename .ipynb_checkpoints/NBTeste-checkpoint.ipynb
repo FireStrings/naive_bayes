{
 "cells": [
  {
   "cell_type": "code",
   "execution_count": 2,
   "metadata": {},
   "outputs": [],
   "source": [
    "import numpy as np\n",
    "import pandas as pd\n",
    "from sklearn.naive_bayes import MultinomialNB\n",
    "from sklearn.feature_extraction.text import TfidfTransformer\n",
    "import re\n",
    "from nltk.tokenize import word_tokenize\n",
    "from nltk.corpus import stopwords\n",
    "from string import punctuation\n",
    "import json\n",
    "from sklearn.feature_extraction.text import TfidfVectorizer\n",
    "from sklearn.cluster import KMeans\n",
    "from sklearn.feature_extraction.text import CountVectorizer\n",
    "import sys\n",
    "from joblib import dump, load\n",
    "\n",
    "# df = pd.read_csv('data/data_asr.csv', sep=\";\")\n",
    "# df"
   ]
  },
  {
   "cell_type": "code",
   "execution_count": 3,
   "metadata": {},
   "outputs": [],
   "source": [
    "#Naive Bayes\n",
    "def cleanText(tweet):\n",
    "    tweet = ' '.join(re.sub(\"(@[A-Za-z0-9]+)|(#[A-Za-z0-9]+)\", \" \", tweet).split())\n",
    "    tweet = ' '.join(re.sub(\"(\\w+:\\/\\/\\S+)\", \" \", tweet).split())\n",
    "    tweet = ' '.join(re.sub(\"[\\_\\|\\.\\,\\\"\\'\\!\\?\\:\\;\\-\\=]\", \" \", tweet).split())\n",
    "    tweet = tweet.lower()\n",
    "    \n",
    "    return tweet\n",
    "\n",
    "\n",
    "df = pd.read_csv('data/data_asr.csv', sep=\";\")\n",
    "# df.head()"
   ]
  },
  {
   "cell_type": "code",
   "execution_count": 4,
   "metadata": {},
   "outputs": [
    {
     "name": "stdout",
     "output_type": "stream",
     "text": [
      "['sim']\n"
     ]
    }
   ],
   "source": [
    "l = []\n",
    "for i,j in zip(df['texto'], df['class']):\n",
    "    t = cleanText(i)\n",
    "    l.append([t, j])\n",
    "\n",
    "x_train = []\n",
    "y_train = []\n",
    "\n",
    "stopwords = set(stopwords.words('portuguese') + list(punctuation))\n",
    "\n",
    "palavras_sem_stopwords = [palavra for palavra in l ]\n",
    "\n",
    "for i in l:\n",
    "    lTemp = i[0].split(\" \")\n",
    "    lPost = []\n",
    "    \n",
    "    for j in lTemp:        \n",
    "        if j not in stopwords:\n",
    "            lPost.append(j)\n",
    "    \n",
    "    lFinal = \" \".join(lPost)\n",
    "    x_train.append(lFinal)\n",
    "    y_train.append(i[1])\n",
    "    \n",
    "count_vect = CountVectorizer()\n",
    "\n",
    "X_train_counts = count_vect.fit_transform(x_train)\n",
    "\n",
    "tfidf_transformer = TfidfTransformer()\n",
    "X_train_tfidf = tfidf_transformer.fit_transform(X_train_counts)\n",
    "\n",
    "\n",
    "clf = MultinomialNB().fit(X_train_tfidf, y_train)\n",
    "\n",
    "docs_new = ['sim']\n",
    "X_new_counts = count_vect.transform(docs_new)\n",
    "X_new_tfidf = tfidf_transformer.transform(X_new_counts)\n",
    "\n",
    "predicted = clf.predict(X_new_tfidf)\n",
    "print(predicted)\n",
    "\n",
    "# print(clf.get_params())"
   ]
  },
  {
   "cell_type": "code",
   "execution_count": 70,
   "metadata": {},
   "outputs": [],
   "source": [
    "# dump(clf, 'modelo_asr.joblib') \n",
    "import pickle\n",
    "\n",
    "with open(\"model_asr.pkl\", 'wb') as fout:\n",
    "    pickle.dump((count_vect, tfidf_transformer, clf), fout)"
   ]
  },
  {
   "cell_type": "code",
   "execution_count": 9,
   "metadata": {},
   "outputs": [
    {
     "name": "stdout",
     "output_type": "stream",
     "text": [
      "['mudanca']\n"
     ]
    }
   ],
   "source": [
    "with open('model_asr.pkl', 'rb') as f:\n",
    "    movieVzer, movieTfmer, clf = pickle.load(f)\n",
    "    docs_new = ['mudancas']\n",
    "    leoc = movieVzer.transform(docs_new)\n",
    "    leot = movieTfmer.transform(leoc)\n",
    "    a = clf.predict(leot)\n",
    "print(a)"
   ]
  },
  {
   "cell_type": "code",
   "execution_count": null,
   "metadata": {},
   "outputs": [],
   "source": []
  },
  {
   "cell_type": "code",
   "execution_count": null,
   "metadata": {},
   "outputs": [],
   "source": []
  },
  {
   "cell_type": "code",
   "execution_count": null,
   "metadata": {},
   "outputs": [],
   "source": []
  }
 ],
 "metadata": {
  "kernelspec": {
   "display_name": "Python 3 (ipykernel)",
   "language": "python",
   "name": "python3"
  },
  "language_info": {
   "codemirror_mode": {
    "name": "ipython",
    "version": 3
   },
   "file_extension": ".py",
   "mimetype": "text/x-python",
   "name": "python",
   "nbconvert_exporter": "python",
   "pygments_lexer": "ipython3",
   "version": "3.6.9"
  }
 },
 "nbformat": 4,
 "nbformat_minor": 4
}
