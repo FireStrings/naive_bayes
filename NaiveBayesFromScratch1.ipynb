{
 "cells": [
  {
   "cell_type": "code",
   "execution_count": 2,
   "metadata": {},
   "outputs": [
    {
     "name": "stdout",
     "output_type": "stream",
     "text": [
      "Total de registros: 113\n",
      "Total de ocorrencias do dia 'sexta': 16\n",
      "Total de ocorrencias da resposta 'sim': 59\n",
      "Numero de 'sexta' dentro da resposta 'sim': 4\n",
      "\n",
      "Probabilidade de ter um 'sim' no dia 'sexta':0.25\n"
     ]
    }
   ],
   "source": [
    "import pandas as pd\n",
    "\n",
    "#Algoritmo Naive Bayes de classificação\n",
    "#Formula: P(A|B) = P(B|A) * P(A) / P(B)\n",
    "#Quero saber se no dia X terei uma resposta Y\n",
    "\n",
    "dia = \"sexta\"\n",
    "resp = \"sim\"\n",
    "\n",
    "df = pd.read_csv('data/data.csv', sep=\";\", encoding=\"latin-1\")\n",
    "df['label'] = df['resultado'].map({'sim': 0, 'nao': 1})\n",
    "\n",
    "nSim = df[df['resultado'] == resp]['resultado'].count()\n",
    "nDiaTotal = df[df['texto'] == dia]['resultado'].count()\n",
    "\n",
    "nRespTotal = df[df['resultado'] == resp]\n",
    "nDia = nRespTotal[nRespTotal['texto'] == dia]['texto'].count()\n",
    "\n",
    "nTotal = df['label'].count()\n",
    "print(\"Total de registros: \" + str(nTotal))\n",
    "print(\"Total de ocorrencias do dia '\"+dia+\"': \" + str(nDiaTotal))\n",
    "print(\"Total de ocorrencias da resposta '\"+resp+\"': \" + str(nSim))\n",
    "print(\"Numero de '\"+dia+\"' dentro da resposta '\"+resp+\"': \" + str(nDia))\n",
    "print()\n",
    "\n",
    "prob = (nDia/nSim) * (nSim/nTotal) / (nDiaTotal/nTotal)\n",
    "\n",
    "print(\"Probabilidade de ter um '\" + resp + \"' no dia '\" + dia + \"':\" + str(prob))"
   ]
  }
 ],
 "metadata": {
  "kernelspec": {
   "display_name": "Python 3",
   "language": "python",
   "name": "python3"
  },
  "language_info": {
   "codemirror_mode": {
    "name": "ipython",
    "version": 3
   },
   "file_extension": ".py",
   "mimetype": "text/x-python",
   "name": "python",
   "nbconvert_exporter": "python",
   "pygments_lexer": "ipython3",
   "version": "3.6.9"
  }
 },
 "nbformat": 4,
 "nbformat_minor": 4
}
