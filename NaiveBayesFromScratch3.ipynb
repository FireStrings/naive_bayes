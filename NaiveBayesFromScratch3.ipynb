{
 "cells": [
  {
   "cell_type": "code",
   "execution_count": 1,
   "metadata": {},
   "outputs": [
    {
     "name": "stdout",
     "output_type": "stream",
     "text": [
      "SAIR: 0.08000000000000002\n",
      "CASA: 0.16000000000000003\n",
      "   clima carro resultado  label\n",
      "0    sol   sim      sair      0\n",
      "1  chuva   nao      sair      0\n",
      "2    sol   sim      sair      0\n",
      "3    sol   sim      sair      0\n",
      "4    sol   sim      sair      0\n",
      "5  chuva   nao      casa      1\n",
      "6  chuva   nao      casa      1\n",
      "7    sol   sim      casa      1\n",
      "8    sol   nao      casa      1\n",
      "9  chuva   nao      casa      1\n"
     ]
    }
   ],
   "source": [
    "import pandas as pd\n",
    "\n",
    "#Algoritmo Naive Bayes de classificação\n",
    "#Formula: P(A|B) = P(B|A) * P(A) / P(B)\n",
    "#Quero saber se no quando X terei uma resposta Y\n",
    "\n",
    "carro = \"nao\"\n",
    "clima = \"sol\"\n",
    "\n",
    "df = pd.read_csv('data/data2.csv', sep=\";\", encoding=\"latin-1\")\n",
    "\n",
    "df['label'] = df['resultado'].map({'sair': 0, 'casa': 1})\n",
    "\n",
    "nCasa = df[df['resultado'] == 'casa']['resultado'].count()\n",
    "nSair = df[df['resultado'] == 'sair']['resultado'].count()\n",
    "\n",
    "nTotal = df['label'].count()\n",
    "\n",
    "sair =  df[df['resultado'] == 'sair']\n",
    "casa =  df[df['resultado'] == 'casa']\n",
    "\n",
    "resultSairClima = sair[sair['clima'] == clima]\n",
    "resultSairCarro = sair[sair['carro'] == carro]\n",
    "resultCasaClima = casa[casa['clima'] == clima]\n",
    "resultCasaCarro = casa[casa['carro'] == carro]\n",
    "\n",
    "\n",
    "probSolSair = resultSairClima['label'].count()/nSair\n",
    "probCarroSair = resultSairCarro['label'].count()/nSair\n",
    "                       \n",
    "probSolCasa = resultCasaClima['label'].count()/nCasa\n",
    "probCarroCasa = resultCasaCarro['label'].count()/nCasa\n",
    "\n",
    "print(\"SAIR: \"+str(probSolSair*probCarroSair*nSair/nTotal))\n",
    "print(\"CASA: \" + str(probSolCasa*probCarroCasa*nCasa/nTotal))\n",
    "print(df)"
   ]
  },
  {
   "cell_type": "code",
   "execution_count": null,
   "metadata": {},
   "outputs": [],
   "source": []
  }
 ],
 "metadata": {
  "kernelspec": {
   "display_name": "Python 3",
   "language": "python",
   "name": "python3"
  },
  "language_info": {
   "codemirror_mode": {
    "name": "ipython",
    "version": 3
   },
   "file_extension": ".py",
   "mimetype": "text/x-python",
   "name": "python",
   "nbconvert_exporter": "python",
   "pygments_lexer": "ipython3",
   "version": "3.6.9"
  }
 },
 "nbformat": 4,
 "nbformat_minor": 4
}
